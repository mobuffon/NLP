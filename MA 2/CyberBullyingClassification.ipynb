{
 "cells": [
  {
   "cell_type": "code",
   "execution_count": 1,
   "metadata": {},
   "outputs": [],
   "source": [
    "import pandas as pd \n",
    "import matplotlib.pyplot as plt\n"
   ]
  },
  {
   "cell_type": "markdown",
   "metadata": {},
   "source": [
    "# Data Exploration"
   ]
  },
  {
   "cell_type": "code",
   "execution_count": 2,
   "metadata": {},
   "outputs": [
    {
     "name": "stdout",
     "output_type": "stream",
     "text": [
      "<class 'pandas.core.frame.DataFrame'>\n",
      "RangeIndex: 11100 entries, 0 to 11099\n",
      "Data columns (total 2 columns):\n",
      " #   Column    Non-Null Count  Dtype \n",
      "---  ------    --------------  ----- \n",
      " 0   Text      11100 non-null  object\n",
      " 1   CB_Label  11100 non-null  int64 \n",
      "dtypes: int64(1), object(1)\n",
      "memory usage: 173.6+ KB\n"
     ]
    }
   ],
   "source": [
    "df = pd.read_csv('Coding CBS/NLP/MA 2/CyberBullying Comments Dataset.csv')\n",
    "df.info()"
   ]
  },
  {
   "cell_type": "code",
   "execution_count": 3,
   "metadata": {},
   "outputs": [
    {
     "data": {
      "text/plain": [
       "(array([5550.,    0.,    0.,    0.,    0.,    0.,    0.,    0.,    0.,\n",
       "        5550.]),\n",
       " array([0. , 0.1, 0.2, 0.3, 0.4, 0.5, 0.6, 0.7, 0.8, 0.9, 1. ]),\n",
       " <BarContainer object of 10 artists>)"
      ]
     },
     "execution_count": 3,
     "metadata": {},
     "output_type": "execute_result"
    },
    {
     "data": {
      "image/png": "[encoded data removed]",
      "text/plain": [
       "<Figure size 640x480 with 1 Axes>"
      ]
     },
     "metadata": {},
     "output_type": "display_data"
    }
   ],
   "source": [
    "plt.hist(df.CB_Label)"
   ]
  },
  {
   "cell_type": "markdown",
   "metadata": {},
   "source": [
    "the data is evenly distributed and does not have any null values"
   ]
  },
  {
   "cell_type": "markdown",
   "metadata": {},
   "source": [
    "# Data Preprocessing"
   ]
  },
  {
   "cell_type": "code",
   "execution_count": 5,
   "metadata": {},
   "outputs": [
    {
     "name": "stderr",
     "output_type": "stream",
     "text": [
      "[nltk_data] Downloading package punkt to\n",
      "[nltk_data]     /Users/moritzvonbuchwaldt/nltk_data...\n",
      "[nltk_data]   Package punkt is already up-to-date!\n",
      "[nltk_data] Downloading package stopwords to\n",
      "[nltk_data]     /Users/moritzvonbuchwaldt/nltk_data...\n",
      "[nltk_data]   Package stopwords is already up-to-date!\n",
      "[nltk_data] Downloading package wordnet to\n",
      "[nltk_data]     /Users/moritzvonbuchwaldt/nltk_data...\n",
      "[nltk_data]   Package wordnet is already up-to-date!\n"
     ]
    },
    {
     "data": {
      "text/plain": [
       "0     damn someone nana beach one dont think ic stea...\n",
       "1     kidding dick clark corpse mechanically operate...\n",
       "2     read article jobros thought damn cash jobro po...\n",
       "3     got one fucking day sprinkle back sunshine dou...\n",
       "4     already listening elliott smith fucking hate k...\n",
       "5                  told derek go fuck devyn told u calm\n",
       "6                  watching new smosh video laughing as\n",
       "7     mom like catholicism idea sinner birth irked l...\n",
       "8     ya know lol big thunder mountain broke got rid...\n",
       "9                                           lucky bitch\n",
       "10    hate auto dm better way show actually care fol...\n",
       "11    top notch click dont hate hater u mad cuz u br...\n",
       "12                question fuck father mia like two day\n",
       "13    fair enough get as around sometime later voice...\n",
       "14    yeah seems like got bitch somewhere could brai...\n",
       "Name: cleaned_text, dtype: object"
      ]
     },
     "execution_count": 5,
     "metadata": {},
     "output_type": "execute_result"
    }
   ],
   "source": [
    "# (1.1)\n",
    "\n",
    "import nltk\n",
    "from nltk.corpus import stopwords\n",
    "from nltk.tokenize import word_tokenize\n",
    "from nltk.stem import WordNetLemmatizer\n",
    "\n",
    "# Download the required NLTK data\n",
    "nltk.download('punkt')\n",
    "nltk.download('stopwords')\n",
    "nltk.download('wordnet')\n",
    "\n",
    "# Initialize the lemmatizer and stopwords list\n",
    "lem = WordNetLemmatizer()\n",
    "stop_words = stopwords.words('english')\n",
    "\n",
    "def data_preprocess(text):\n",
    "    # Tokenize text\n",
    "    wtokens = word_tokenize(text)\n",
    "\n",
    "   # Filtering tokens\n",
    "    t_filtered = []\n",
    "    for t in wtokens:\n",
    "        # Convert token to lowercase and check if it's not in stopwords and is alphabetic\n",
    "        if t.lower() not in stop_words and t.isalpha():\n",
    "        # Add the lowercase token to filtered_tokens\n",
    "            t_filtered.append(t.lower())\n",
    "\n",
    "# Lemmatization\n",
    "    t_lemmatized = []\n",
    "    for t in t_filtered:\n",
    "    # Lemmatize token\n",
    "        lemma_t = lem.lemmatize(t)\n",
    "    # Add lemmatized token to lemmatized_tokens\n",
    "        t_lemmatized.append(lemma_t)\n",
    "\n",
    "    # Rejoin the processed tokens into a single string\n",
    "    return \" \".join(t_lemmatized) \n",
    "\n",
    "# (1.2)\n",
    "df['cleaned_text'] = df['Text'].apply(data_preprocess)\n",
    "df['cleaned_text'].head(15)"
   ]
  },
  {
   "cell_type": "code",
   "execution_count": 17,
   "metadata": {},
   "outputs": [],
   "source": [
    "from sklearn.feature_extraction.text import CountVectorizer, TfidfVectorizer\n",
    "from sklearn.model_selection import train_test_split\n",
    "\n",
    "vectorizer = TfidfVectorizer()\n",
    "#vectorizer = CountVectorizer()\n",
    "X = vectorizer.fit_transform(df.cleaned_text)\n",
    "y = df.CB_Label\n",
    "\n",
    "Xtrain, Xtest, ytrain, ytest = train_test_split(X, y , test_size=0.8)"
   ]
  },
  {
   "cell_type": "code",
   "execution_count": null,
   "metadata": {},
   "outputs": [
    {
     "name": "stdout",
     "output_type": "stream",
     "text": [
      "BernoulliNB()\n",
      "GaussianNB()\n",
      "MultinomialNB()\n"
     ]
    },
    {
     "data": {
      "text/html": [
       "<table>\n",
       "    <thead>\n",
       "        <tr>\n",
       "            <th>Model</th>\n",
       "            <th>F1 Score</th>\n",
       "            <th>Accuracy</th>\n",
       "            <th>Precision</th>\n",
       "            <th>Recall</th>\n",
       "        </tr>\n",
       "    </thead>\n",
       "    <tbody>\n",
       "        <tr>\n",
       "            <td>BernoulliNB()</td>\n",
       "            <td>0.6869054152495433</td>\n",
       "            <td>0.6872747747747747</td>\n",
       "            <td>0.6938726663475348</td>\n",
       "            <td>0.6593131680691381</td>\n",
       "        </tr>\n",
       "        <tr>\n",
       "            <td>GaussianNB()</td>\n",
       "            <td>0.5836851435949382</td>\n",
       "            <td>0.5896396396396396</td>\n",
       "            <td>0.6100555393159894</td>\n",
       "            <td>0.47464180122811006</td>\n",
       "        </tr>\n",
       "        <tr>\n",
       "            <td>MultinomialNB()</td>\n",
       "            <td>0.6682143922069068</td>\n",
       "            <td>0.6699324324324324</td>\n",
       "            <td>0.6431081608746584</td>\n",
       "            <td>0.7491471457812144</td>\n",
       "        </tr>\n",
       "    </tbody>\n",
       "</table>"
      ],
      "text/plain": [
       "+-----------------+--------------------+--------------------+--------------------+---------------------+\n",
       "|      Model      |      F1 Score      |      Accuracy      |     Precision      |        Recall       |\n",
       "+-----------------+--------------------+--------------------+--------------------+---------------------+\n",
       "|  BernoulliNB()  | 0.6869054152495433 | 0.6872747747747747 | 0.6938726663475348 |  0.6593131680691381 |\n",
       "|   GaussianNB()  | 0.5836851435949382 | 0.5896396396396396 | 0.6100555393159894 | 0.47464180122811006 |\n",
       "| MultinomialNB() | 0.6682143922069068 | 0.6699324324324324 | 0.6431081608746584 |  0.7491471457812144 |\n",
       "+-----------------+--------------------+--------------------+--------------------+---------------------+"
      ]
     },
     "execution_count": 51,
     "metadata": {},
     "output_type": "execute_result"
    }
   ],
   "source": [
    "from sklearn.naive_bayes import BernoulliNB, GaussianNB, MultinomialNB\n",
    "from sklearn import metrics\n",
    "from prettytable import PrettyTable\n",
    "\n",
    "models = [BernoulliNB(), GaussianNB(), MultinomialNB()]\n",
    "\n",
    "\n",
    "\n",
    "\n",
    "table = PrettyTable()\n",
    "table.field_names = [\"Model\", \"F1 Score\", \"Accuracy\", \"Precision\", \"Recall\"]\n",
    "\n",
    "for m in models:\n",
    "    print(m)\n",
    "    model = m.fit(Xtrain.toarray(),ytrain)\n",
    "    \n",
    "    pred = model.predict(Xtest.toarray())   \n",
    "    table.add_row([m, metrics.f1_score(ytest, pred, average='macro'), metrics.accuracy_score(ytest, pred), metrics.precision_score(ytest, pred), metrics.recall_score(ytest, pred)])\n",
    "table\n"
   ]
  },
  {
   "cell_type": "markdown",
   "metadata": {},
   "source": [
    "Ideally we want to minimize the texts with bullying that we miss so Recall is the correct metric to look at. As it shows how many of all Bullying messages classify correctly"
   ]
  },
  {
   "cell_type": "code",
   "execution_count": 52,
   "metadata": {},
   "outputs": [
    {
     "name": "stdout",
     "output_type": "stream",
     "text": [
      "LogisticRegression()\n",
      "F1 Score 0.6778236159500048\n",
      "Accuracy 0.6781531531531532\n",
      "Recall 0.7170798271548783\n",
      "Precision 0.6614222781623663\n"
     ]
    }
   ],
   "source": [
    "from sklearn.linear_model import LogisticRegression\n",
    "\n",
    "\n",
    "model = LogisticRegression()\n",
    "print(model)\n",
    "model = model.fit(Xtrain.toarray(),ytrain)\n",
    "pred = model.predict(Xtest)\n",
    "print(\"F1 Score\",metrics.f1_score(ytest, pred, average='macro'))\n",
    "print(\"Accuracy\",metrics.accuracy_score(ytest, pred))\n",
    "print(\"Recall\",metrics.recall_score(ytest, pred))\n",
    "print(\"Precision\",metrics.precision_score(ytest, pred))\n",
    "\n",
    "table.add_row([model, metrics.f1_score(ytest, pred, average='macro'), metrics.accuracy_score(ytest, pred), metrics.precision_score(ytest, pred), metrics.recall_score(ytest, pred)])\n",
    "\n"
   ]
  },
  {
   "cell_type": "code",
   "execution_count": 39,
   "metadata": {},
   "outputs": [
    {
     "name": "stdout",
     "output_type": "stream",
     "text": [
      "Fitting 5 folds for each of 4 candidates, totalling 20 fits\n",
      "Best Recall Score: 0.6902482153483562\n",
      "Best Parameters: {'clf__C': 1, 'clf__penalty': 'l2', 'clf__solver': 'liblinear'}\n"
     ]
    }
   ],
   "source": [
    "from sklearn.model_selection import GridSearchCV\n",
    "from sklearn.pipeline import Pipeline\n",
    "\n",
    "pipeline = Pipeline([\n",
    "    ('clf', LogisticRegression(max_iter=1000))\n",
    "])\n",
    "\n",
    "# Define hyperparameters to search\n",
    "param_grid = {\n",
    "    'clf__C': [0.01, 0.1, 1, 10],\n",
    "    'clf__penalty': ['l2'],\n",
    "    'clf__solver': ['liblinear']  # 'liblinear' works well with small datasets & L1/L2\n",
    "}\n",
    "\n",
    "# Set up grid search\n",
    "grid_search = GridSearchCV(pipeline, param_grid, cv=5, scoring='f1_macro', verbose=1)\n",
    "\n",
    "# Run search\n",
    "grid_search.fit(Xtrain, ytrain)\n",
    "\n",
    "# Best result\n",
    "print(\"Best Recall Score:\", grid_search.best_score_)\n",
    "print(\"Best Parameters:\", grid_search.best_params_)"
   ]
  },
  {
   "cell_type": "markdown",
   "metadata": {},
   "source": [
    "same parameters as default ones"
   ]
  },
  {
   "cell_type": "code",
   "execution_count": 53,
   "metadata": {},
   "outputs": [
    {
     "name": "stdout",
     "output_type": "stream",
     "text": [
      "LogisticRegression(C=0.2, solver='liblinear')\n",
      "F1 Score 0.6564364296875254\n",
      "Accuracy 0.6608108108108108\n",
      "Recall 0.7812144644075506\n",
      "Precision 0.626253418413856\n"
     ]
    }
   ],
   "source": [
    "\n",
    "model = LogisticRegression(C = 0.2, solver=\"liblinear\")\n",
    "print(model)\n",
    "model = model.fit(Xtrain.toarray(),ytrain)\n",
    "pred = model.predict(Xtest)\n",
    "print(\"F1 Score\",metrics.f1_score(ytest, pred, average='macro'))\n",
    "print(\"Accuracy\",metrics.accuracy_score(ytest, pred))\n",
    "print(\"Recall\",metrics.recall_score(ytest, pred))\n",
    "print(\"Precision\",metrics.precision_score(ytest, pred))\n",
    "table.add_row([model, metrics.f1_score(ytest, pred, average='macro'), metrics.accuracy_score(ytest, pred), metrics.precision_score(ytest, pred), metrics.recall_score(ytest, pred)])\n"
   ]
  },
  {
   "cell_type": "code",
   "execution_count": 54,
   "metadata": {},
   "outputs": [
    {
     "data": {
      "text/html": [
       "<table>\n",
       "    <thead>\n",
       "        <tr>\n",
       "            <th>Model</th>\n",
       "            <th>F1 Score</th>\n",
       "            <th>Accuracy</th>\n",
       "            <th>Precision</th>\n",
       "            <th>Recall</th>\n",
       "        </tr>\n",
       "    </thead>\n",
       "    <tbody>\n",
       "        <tr>\n",
       "            <td>BernoulliNB()</td>\n",
       "            <td>0.6869054152495433</td>\n",
       "            <td>0.6872747747747747</td>\n",
       "            <td>0.6938726663475348</td>\n",
       "            <td>0.6593131680691381</td>\n",
       "        </tr>\n",
       "        <tr>\n",
       "            <td>GaussianNB()</td>\n",
       "            <td>0.5836851435949382</td>\n",
       "            <td>0.5896396396396396</td>\n",
       "            <td>0.6100555393159894</td>\n",
       "            <td>0.47464180122811006</td>\n",
       "        </tr>\n",
       "        <tr>\n",
       "            <td>MultinomialNB()</td>\n",
       "            <td>0.6682143922069068</td>\n",
       "            <td>0.6699324324324324</td>\n",
       "            <td>0.6431081608746584</td>\n",
       "            <td>0.7491471457812144</td>\n",
       "        </tr>\n",
       "        <tr>\n",
       "            <td>LogisticRegression()</td>\n",
       "            <td>0.6778236159500048</td>\n",
       "            <td>0.6781531531531532</td>\n",
       "            <td>0.6614222781623663</td>\n",
       "            <td>0.7170798271548783</td>\n",
       "        </tr>\n",
       "        <tr>\n",
       "            <td>LogisticRegression(C=0.2, solver=&#x27;liblinear&#x27;)</td>\n",
       "            <td>0.6564364296875254</td>\n",
       "            <td>0.6608108108108108</td>\n",
       "            <td>0.626253418413856</td>\n",
       "            <td>0.7812144644075506</td>\n",
       "        </tr>\n",
       "    </tbody>\n",
       "</table>"
      ],
      "text/plain": [
       "+-----------------------------------------------+--------------------+--------------------+--------------------+---------------------+\n",
       "|                     Model                     |      F1 Score      |      Accuracy      |     Precision      |        Recall       |\n",
       "+-----------------------------------------------+--------------------+--------------------+--------------------+---------------------+\n",
       "|                 BernoulliNB()                 | 0.6869054152495433 | 0.6872747747747747 | 0.6938726663475348 |  0.6593131680691381 |\n",
       "|                  GaussianNB()                 | 0.5836851435949382 | 0.5896396396396396 | 0.6100555393159894 | 0.47464180122811006 |\n",
       "|                MultinomialNB()                | 0.6682143922069068 | 0.6699324324324324 | 0.6431081608746584 |  0.7491471457812144 |\n",
       "|              LogisticRegression()             | 0.6778236159500048 | 0.6781531531531532 | 0.6614222781623663 |  0.7170798271548783 |\n",
       "| LogisticRegression(C=0.2, solver='liblinear') | 0.6564364296875254 | 0.6608108108108108 | 0.626253418413856  |  0.7812144644075506 |\n",
       "+-----------------------------------------------+--------------------+--------------------+--------------------+---------------------+"
      ]
     },
     "execution_count": 54,
     "metadata": {},
     "output_type": "execute_result"
    }
   ],
   "source": [
    "table"
   ]
  }
 ],
 "metadata": {
  "kernelspec": {
   "display_name": "Python 3 (ipykernel)",
   "language": "python",
   "name": "python3"
  },
  "language_info": {
   "codemirror_mode": {
    "name": "ipython",
    "version": 3
   },
   "file_extension": ".py",
   "mimetype": "text/x-python",
   "name": "python",
   "nbconvert_exporter": "python",
   "pygments_lexer": "ipython3",
   "version": "3.12.6"
  }
 },
 "nbformat": 4,
 "nbformat_minor": 2
}
