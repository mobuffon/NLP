{
  "cells": [
    {
      "cell_type": "markdown",
      "source": [
        "Natural Language Processing & Text Analytics - Session 07 - March 30 2022"
      ],
      "metadata": {
        "cell_id": "5c422b79296c4b208f85ed0088855eb1",
        "deepnote_cell_type": "markdown",
        "id": "X7gNu3Uo4ivT"
      }
    },
    {
      "cell_type": "markdown",
      "source": [
        "## Exercise 7.0* Topic Modeling Using Gensim"
      ],
      "metadata": {
        "id": "0814MylAzs0L",
        "cell_id": "2ec97246482d45dc96914b3fd227318d",
        "deepnote_cell_type": "markdown"
      }
    },
    {
      "cell_type": "markdown",
      "source": [
        "Follow this exercise to go through the setup of an LDA model. Here is an article on LDA, if you need some clarifying examples: https://towardsdatascience.com/latent-dirichlet-allocation-lda-9d1cd064ffa2"
      ],
      "metadata": {
        "cell_id": "cd585e469072428791a08305b6bbf94f",
        "deepnote_cell_type": "markdown",
        "id": "8vs5R2Am4ivX"
      }
    },
    {
      "cell_type": "markdown",
      "source": [
        "**The Data**\n",
        "\n",
        "The data set we’ll use is a list of over one million news headlines published over a period of 15 years and can be downloaded from [Kaggle](https://www.kaggle.com/therohk/million-headlines/data?login=true#abcnews-date-text.csv)."
      ],
      "metadata": {
        "id": "2K6IfoMBzpW0",
        "cell_id": "e679499ca33e483aaaf56cc73d6a291b",
        "deepnote_cell_type": "markdown"
      }
    },
    {
      "cell_type": "code",
      "source": [
        "# this is only needed when you are running the codes on Google Colab.\n",
        "from google.colab import files\n",
        "uploaded = files.upload()\n",
        "\n",
        "# !pip install pandas==1.5.3 # THIS VERSION OF PANDAS MUST BE INSTALLED TO BE COMPATIBLE WITH pyLDAvis IN COLAB"
      ],
      "metadata": {
        "id": "0_DGe7DptSLq",
        "colab": {
          "height": 71,
          "base_uri": "https://localhost:8080/"
        },
        "cell_id": "b02274a70bf34c24bf292d08fdbdd613",
        "outputId": "d5e170c4-b2e3-4d83-8c6f-3c94865575b0",
        "ExecuteTime": {
          "end_time": "2022-03-31T07:26:56.317198Z",
          "start_time": "2022-03-31T07:26:56.312612Z"
        },
        "source_hash": "981b9470",
        "execution_start": 1680170249157,
        "execution_millis": 2,
        "deepnote_to_be_reexecuted": false,
        "deepnote_cell_type": "code"
      },
      "outputs": [
        {
          "output_type": "display_data",
          "data": {
            "text/plain": [
              "<IPython.core.display.HTML object>"
            ],
            "text/html": [
              "\n",
              "     <input type=\"file\" id=\"files-8804a4b7-0ae1-4561-913a-5ef2d349cd54\" name=\"files[]\" multiple disabled\n",
              "        style=\"border:none\" />\n",
              "     <output id=\"result-8804a4b7-0ae1-4561-913a-5ef2d349cd54\">\n",
              "      Upload widget is only available when the cell has been executed in the\n",
              "      current browser session. Please rerun this cell to enable.\n",
              "      </output>\n",
              "      <script>// Copyright 2017 Google LLC\n",
              "//\n",
              "// Licensed under the Apache License, Version 2.0 (the \"License\");\n",
              "// you may not use this file except in compliance with the License.\n",
              "// You may obtain a copy of the License at\n",
              "//\n",
              "//      http://www.apache.org/licenses/LICENSE-2.0\n",
              "//\n",
              "// Unless required by applicable law or agreed to in writing, software\n",
              "// distributed under the License is distributed on an \"AS IS\" BASIS,\n",
              "// WITHOUT WARRANTIES OR CONDITIONS OF ANY KIND, either express or implied.\n",
              "// See the License for the specific language governing permissions and\n",
              "// limitations under the License.\n",
              "\n",
              "/**\n",
              " * @fileoverview Helpers for google.colab Python module.\n",
              " */\n",
              "(function(scope) {\n",
              "function span(text, styleAttributes = {}) {\n",
              "  const element = document.createElement('span');\n",
              "  element.textContent = text;\n",
              "  for (const key of Object.keys(styleAttributes)) {\n",
              "    element.style[key] = styleAttributes[key];\n",
              "  }\n",
              "  return element;\n",
              "}\n",
              "\n",
              "// Max number of bytes which will be uploaded at a time.\n",
              "const MAX_PAYLOAD_SIZE = 100 * 1024;\n",
              "\n",
              "function _uploadFiles(inputId, outputId) {\n",
              "  const steps = uploadFilesStep(inputId, outputId);\n",
              "  const outputElement = document.getElementById(outputId);\n",
              "  // Cache steps on the outputElement to make it available for the next call\n",
              "  // to uploadFilesContinue from Python.\n",
              "  outputElement.steps = steps;\n",
              "\n",
              "  return _uploadFilesContinue(outputId);\n",
              "}\n",
              "\n",
              "// This is roughly an async generator (not supported in the browser yet),\n",
              "// where there are multiple asynchronous steps and the Python side is going\n",
              "// to poll for completion of each step.\n",
              "// This uses a Promise to block the python side on completion of each step,\n",
              "// then passes the result of the previous step as the input to the next step.\n",
              "function _uploadFilesContinue(outputId) {\n",
              "  const outputElement = document.getElementById(outputId);\n",
              "  const steps = outputElement.steps;\n",
              "\n",
              "  const next = steps.next(outputElement.lastPromiseValue);\n",
              "  return Promise.resolve(next.value.promise).then((value) => {\n",
              "    // Cache the last promise value to make it available to the next\n",
              "    // step of the generator.\n",
              "    outputElement.lastPromiseValue = value;\n",
              "    return next.value.response;\n",
              "  });\n",
              "}\n",
              "\n",
              "/**\n",
              " * Generator function which is called between each async step of the upload\n",
              " * process.\n",
              " * @param {string} inputId Element ID of the input file picker element.\n",
              " * @param {string} outputId Element ID of the output display.\n",
              " * @return {!Iterable<!Object>} Iterable of next steps.\n",
              " */\n",
              "function* uploadFilesStep(inputId, outputId) {\n",
              "  const inputElement = document.getElementById(inputId);\n",
              "  inputElement.disabled = false;\n",
              "\n",
              "  const outputElement = document.getElementById(outputId);\n",
              "  outputElement.innerHTML = '';\n",
              "\n",
              "  const pickedPromise = new Promise((resolve) => {\n",
              "    inputElement.addEventListener('change', (e) => {\n",
              "      resolve(e.target.files);\n",
              "    });\n",
              "  });\n",
              "\n",
              "  const cancel = document.createElement('button');\n",
              "  inputElement.parentElement.appendChild(cancel);\n",
              "  cancel.textContent = 'Cancel upload';\n",
              "  const cancelPromise = new Promise((resolve) => {\n",
              "    cancel.onclick = () => {\n",
              "      resolve(null);\n",
              "    };\n",
              "  });\n",
              "\n",
              "  // Wait for the user to pick the files.\n",
              "  const files = yield {\n",
              "    promise: Promise.race([pickedPromise, cancelPromise]),\n",
              "    response: {\n",
              "      action: 'starting',\n",
              "    }\n",
              "  };\n",
              "\n",
              "  cancel.remove();\n",
              "\n",
              "  // Disable the input element since further picks are not allowed.\n",
              "  inputElement.disabled = true;\n",
              "\n",
              "  if (!files) {\n",
              "    return {\n",
              "      response: {\n",
              "        action: 'complete',\n",
              "      }\n",
              "    };\n",
              "  }\n",
              "\n",
              "  for (const file of files) {\n",
              "    const li = document.createElement('li');\n",
              "    li.append(span(file.name, {fontWeight: 'bold'}));\n",
              "    li.append(span(\n",
              "        `(${file.type || 'n/a'}) - ${file.size} bytes, ` +\n",
              "        `last modified: ${\n",
              "            file.lastModifiedDate ? file.lastModifiedDate.toLocaleDateString() :\n",
              "                                    'n/a'} - `));\n",
              "    const percent = span('0% done');\n",
              "    li.appendChild(percent);\n",
              "\n",
              "    outputElement.appendChild(li);\n",
              "\n",
              "    const fileDataPromise = new Promise((resolve) => {\n",
              "      const reader = new FileReader();\n",
              "      reader.onload = (e) => {\n",
              "        resolve(e.target.result);\n",
              "      };\n",
              "      reader.readAsArrayBuffer(file);\n",
              "    });\n",
              "    // Wait for the data to be ready.\n",
              "    let fileData = yield {\n",
              "      promise: fileDataPromise,\n",
              "      response: {\n",
              "        action: 'continue',\n",
              "      }\n",
              "    };\n",
              "\n",
              "    // Use a chunked sending to avoid message size limits. See b/62115660.\n",
              "    let position = 0;\n",
              "    do {\n",
              "      const length = Math.min(fileData.byteLength - position, MAX_PAYLOAD_SIZE);\n",
              "      const chunk = new Uint8Array(fileData, position, length);\n",
              "      position += length;\n",
              "\n",
              "      const base64 = btoa(String.fromCharCode.apply(null, chunk));\n",
              "      yield {\n",
              "        response: {\n",
              "          action: 'append',\n",
              "          file: file.name,\n",
              "          data: base64,\n",
              "        },\n",
              "      };\n",
              "\n",
              "      let percentDone = fileData.byteLength === 0 ?\n",
              "          100 :\n",
              "          Math.round((position / fileData.byteLength) * 100);\n",
              "      percent.textContent = `${percentDone}% done`;\n",
              "\n",
              "    } while (position < fileData.byteLength);\n",
              "  }\n",
              "\n",
              "  // All done.\n",
              "  yield {\n",
              "    response: {\n",
              "      action: 'complete',\n",
              "    }\n",
              "  };\n",
              "}\n",
              "\n",
              "scope.google = scope.google || {};\n",
              "scope.google.colab = scope.google.colab || {};\n",
              "scope.google.colab._files = {\n",
              "  _uploadFiles,\n",
              "  _uploadFilesContinue,\n",
              "};\n",
              "})(self);\n",
              "</script> "
            ]
          },
          "metadata": {}
        },
        {
          "output_type": "stream",
          "name": "stdout",
          "text": [
            "Saving abcnews-date-text (2).csv to abcnews-date-text (2).csv\n"
          ]
        }
      ],
      "execution_count": null
    },
    {
      "cell_type": "code",
      "source": [
        "import pandas as pd\n",
        "\n",
        "data = pd.read_csv('abcnews-date-text (2).csv')\n",
        "data_text = data[['headline_text']]\n",
        "data_text['index'] = data_text.index\n",
        "documents = data_text\n",
        "\n",
        "import warnings\n",
        "warnings.filterwarnings(\"ignore\", category=DeprecationWarning)"
      ],
      "metadata": {
        "id": "h0bfkiitsGO_",
        "cell_id": "e6d417f4aa3b499d83b892e18dc657f5",
        "ExecuteTime": {
          "end_time": "2022-03-31T07:26:57.439663Z",
          "start_time": "2022-03-31T07:26:56.320531Z"
        },
        "source_hash": "8a738c21",
        "execution_start": 1680170249159,
        "execution_millis": 938,
        "deepnote_to_be_reexecuted": false,
        "deepnote_cell_type": "code"
      },
      "outputs": [],
      "execution_count": null
    },
    {
      "cell_type": "code",
      "source": [
        "len(documents)"
      ],
      "metadata": {
        "id": "Hkwp16O4sGPB",
        "colab": {
          "base_uri": "https://localhost:8080/"
        },
        "cell_id": "d256af9ff18a48ceaf7b579e188b13d5",
        "outputId": "72c75eec-bd58-484f-91a9-1a0557d01fef",
        "ExecuteTime": {
          "end_time": "2022-03-31T07:26:57.446936Z",
          "start_time": "2022-03-31T07:26:57.441094Z"
        },
        "source_hash": "b07596bf",
        "execution_start": 1680170250142,
        "execution_millis": 2,
        "deepnote_to_be_reexecuted": false,
        "deepnote_cell_type": "code"
      },
      "outputs": [
        {
          "output_type": "execute_result",
          "data": {
            "text/plain": [
              "1226258"
            ]
          },
          "metadata": {},
          "execution_count": 2
        }
      ],
      "execution_count": null
    },
    {
      "cell_type": "code",
      "source": [
        "documents[:5]"
      ],
      "metadata": {
        "id": "11qx8LfosGPE",
        "colab": {
          "height": 206,
          "base_uri": "https://localhost:8080/"
        },
        "cell_id": "8de0f4f2971e46039bf823c9b64c9a34",
        "outputId": "83f4331e-ca9f-47a7-cb2b-e0a8324a1a75",
        "ExecuteTime": {
          "end_time": "2022-03-31T07:26:57.458049Z",
          "start_time": "2022-03-31T07:26:57.450203Z"
        },
        "source_hash": "87f1e8fd",
        "execution_start": 1680170250143,
        "execution_millis": 44,
        "deepnote_to_be_reexecuted": false,
        "deepnote_cell_type": "code"
      },
      "outputs": [
        {
          "output_type": "execute_result",
          "data": {
            "text/plain": [
              "                                       headline_text  index\n",
              "0  aba decides against community broadcasting lic...      0\n",
              "1     act fire witnesses must be aware of defamation      1\n",
              "2     a g calls for infrastructure protection summit      2\n",
              "3           air nz staff in aust strike for pay rise      3\n",
              "4      air nz strike to affect australian travellers      4"
            ],
            "text/html": [
              "\n",
              "  <div id=\"df-4ebdd95e-a21e-46a2-8a0e-fd47e0082f28\" class=\"colab-df-container\">\n",
              "    <div>\n",
              "<style scoped>\n",
              "    .dataframe tbody tr th:only-of-type {\n",
              "        vertical-align: middle;\n",
              "    }\n",
              "\n",
              "    .dataframe tbody tr th {\n",
              "        vertical-align: top;\n",
              "    }\n",
              "\n",
              "    .dataframe thead th {\n",
              "        text-align: right;\n",
              "    }\n",
              "</style>\n",
              "<table border=\"1\" class=\"dataframe\">\n",
              "  <thead>\n",
              "    <tr style=\"text-align: right;\">\n",
              "      <th></th>\n",
              "      <th>headline_text</th>\n",
              "      <th>index</th>\n",
              "    </tr>\n",
              "  </thead>\n",
              "  <tbody>\n",
              "    <tr>\n",
              "      <th>0</th>\n",
              "      <td>aba decides against community broadcasting lic...</td>\n",
              "      <td>0</td>\n",
              "    </tr>\n",
              "    <tr>\n",
              "      <th>1</th>\n",
              "      <td>act fire witnesses must be aware of defamation</td>\n",
              "      <td>1</td>\n",
              "    </tr>\n",
              "    <tr>\n",
              "      <th>2</th>\n",
              "      <td>a g calls for infrastructure protection summit</td>\n",
              "      <td>2</td>\n",
              "    </tr>\n",
              "    <tr>\n",
              "      <th>3</th>\n",
              "      <td>air nz staff in aust strike for pay rise</td>\n",
              "      <td>3</td>\n",
              "    </tr>\n",
              "    <tr>\n",
              "      <th>4</th>\n",
              "      <td>air nz strike to affect australian travellers</td>\n",
              "      <td>4</td>\n",
              "    </tr>\n",
              "  </tbody>\n",
              "</table>\n",
              "</div>\n",
              "    <div class=\"colab-df-buttons\">\n",
              "\n",
              "  <div class=\"colab-df-container\">\n",
              "    <button class=\"colab-df-convert\" onclick=\"convertToInteractive('df-4ebdd95e-a21e-46a2-8a0e-fd47e0082f28')\"\n",
              "            title=\"Convert this dataframe to an interactive table.\"\n",
              "            style=\"display:none;\">\n",
              "\n",
              "  <svg xmlns=\"http://www.w3.org/2000/svg\" height=\"24px\" viewBox=\"0 -960 960 960\">\n",
              "    <path d=\"M120-120v-720h720v720H120Zm60-500h600v-160H180v160Zm220 220h160v-160H400v160Zm0 220h160v-160H400v160ZM180-400h160v-160H180v160Zm440 0h160v-160H620v160ZM180-180h160v-160H180v160Zm440 0h160v-160H620v160Z\"/>\n",
              "  </svg>\n",
              "    </button>\n",
              "\n",
              "  <style>\n",
              "    .colab-df-container {\n",
              "      display:flex;\n",
              "      gap: 12px;\n",
              "    }\n",
              "\n",
              "    .colab-df-convert {\n",
              "      background-color: #E8F0FE;\n",
              "      border: none;\n",
              "      border-radius: 50%;\n",
              "      cursor: pointer;\n",
              "      display: none;\n",
              "      fill: #1967D2;\n",
              "      height: 32px;\n",
              "      padding: 0 0 0 0;\n",
              "      width: 32px;\n",
              "    }\n",
              "\n",
              "    .colab-df-convert:hover {\n",
              "      background-color: #E2EBFA;\n",
              "      box-shadow: 0px 1px 2px rgba(60, 64, 67, 0.3), 0px 1px 3px 1px rgba(60, 64, 67, 0.15);\n",
              "      fill: #174EA6;\n",
              "    }\n",
              "\n",
              "    .colab-df-buttons div {\n",
              "      margin-bottom: 4px;\n",
              "    }\n",
              "\n",
              "    [theme=dark] .colab-df-convert {\n",
              "      background-color: #3B4455;\n",
              "      fill: #D2E3FC;\n",
              "    }\n",
              "\n",
              "    [theme=dark] .colab-df-convert:hover {\n",
              "      background-color: #434B5C;\n",
              "      box-shadow: 0px 1px 3px 1px rgba(0, 0, 0, 0.15);\n",
              "      filter: drop-shadow(0px 1px 2px rgba(0, 0, 0, 0.3));\n",
              "      fill: #FFFFFF;\n",
              "    }\n",
              "  </style>\n",
              "\n",
              "    <script>\n",
              "      const buttonEl =\n",
              "        document.querySelector('#df-4ebdd95e-a21e-46a2-8a0e-fd47e0082f28 button.colab-df-convert');\n",
              "      buttonEl.style.display =\n",
              "        google.colab.kernel.accessAllowed ? 'block' : 'none';\n",
              "\n",
              "      async function convertToInteractive(key) {\n",
              "        const element = document.querySelector('#df-4ebdd95e-a21e-46a2-8a0e-fd47e0082f28');\n",
              "        const dataTable =\n",
              "          await google.colab.kernel.invokeFunction('convertToInteractive',\n",
              "                                                    [key], {});\n",
              "        if (!dataTable) return;\n",
              "\n",
              "        const docLinkHtml = 'Like what you see? Visit the ' +\n",
              "          '<a target=\"_blank\" href=https://colab.research.google.com/notebooks/data_table.ipynb>data table notebook</a>'\n",
              "          + ' to learn more about interactive tables.';\n",
              "        element.innerHTML = '';\n",
              "        dataTable['output_type'] = 'display_data';\n",
              "        await google.colab.output.renderOutput(dataTable, element);\n",
              "        const docLink = document.createElement('div');\n",
              "        docLink.innerHTML = docLinkHtml;\n",
              "        element.appendChild(docLink);\n",
              "      }\n",
              "    </script>\n",
              "  </div>\n",
              "\n",
              "\n",
              "<div id=\"df-c9e000ce-1c32-4ccb-bc74-68c1d4a9ec27\">\n",
              "  <button class=\"colab-df-quickchart\" onclick=\"quickchart('df-c9e000ce-1c32-4ccb-bc74-68c1d4a9ec27')\"\n",
              "            title=\"Suggest charts\"\n",
              "            style=\"display:none;\">\n",
              "\n",
              "<svg xmlns=\"http://www.w3.org/2000/svg\" height=\"24px\"viewBox=\"0 0 24 24\"\n",
              "     width=\"24px\">\n",
              "    <g>\n",
              "        <path d=\"M19 3H5c-1.1 0-2 .9-2 2v14c0 1.1.9 2 2 2h14c1.1 0 2-.9 2-2V5c0-1.1-.9-2-2-2zM9 17H7v-7h2v7zm4 0h-2V7h2v10zm4 0h-2v-4h2v4z\"/>\n",
              "    </g>\n",
              "</svg>\n",
              "  </button>\n",
              "\n",
              "<style>\n",
              "  .colab-df-quickchart {\n",
              "      --bg-color: #E8F0FE;\n",
              "      --fill-color: #1967D2;\n",
              "      --hover-bg-color: #E2EBFA;\n",
              "      --hover-fill-color: #174EA6;\n",
              "      --disabled-fill-color: #AAA;\n",
              "      --disabled-bg-color: #DDD;\n",
              "  }\n",
              "\n",
              "  [theme=dark] .colab-df-quickchart {\n",
              "      --bg-color: #3B4455;\n",
              "      --fill-color: #D2E3FC;\n",
              "      --hover-bg-color: #434B5C;\n",
              "      --hover-fill-color: #FFFFFF;\n",
              "      --disabled-bg-color: #3B4455;\n",
              "      --disabled-fill-color: #666;\n",
              "  }\n",
              "\n",
              "  .colab-df-quickchart {\n",
              "    background-color: var(--bg-color);\n",
              "    border: none;\n",
              "    border-radius: 50%;\n",
              "    cursor: pointer;\n",
              "    display: none;\n",
              "    fill: var(--fill-color);\n",
              "    height: 32px;\n",
              "    padding: 0;\n",
              "    width: 32px;\n",
              "  }\n",
              "\n",
              "  .colab-df-quickchart:hover {\n",
              "    background-color: var(--hover-bg-color);\n",
              "    box-shadow: 0 1px 2px rgba(60, 64, 67, 0.3), 0 1px 3px 1px rgba(60, 64, 67, 0.15);\n",
              "    fill: var(--button-hover-fill-color);\n",
              "  }\n",
              "\n",
              "  .colab-df-quickchart-complete:disabled,\n",
              "  .colab-df-quickchart-complete:disabled:hover {\n",
              "    background-color: var(--disabled-bg-color);\n",
              "    fill: var(--disabled-fill-color);\n",
              "    box-shadow: none;\n",
              "  }\n",
              "\n",
              "  .colab-df-spinner {\n",
              "    border: 2px solid var(--fill-color);\n",
              "    border-color: transparent;\n",
              "    border-bottom-color: var(--fill-color);\n",
              "    animation:\n",
              "      spin 1s steps(1) infinite;\n",
              "  }\n",
              "\n",
              "  @keyframes spin {\n",
              "    0% {\n",
              "      border-color: transparent;\n",
              "      border-bottom-color: var(--fill-color);\n",
              "      border-left-color: var(--fill-color);\n",
              "    }\n",
              "    20% {\n",
              "      border-color: transparent;\n",
              "      border-left-color: var(--fill-color);\n",
              "      border-top-color: var(--fill-color);\n",
              "    }\n",
              "    30% {\n",
              "      border-color: transparent;\n",
              "      border-left-color: var(--fill-color);\n",
              "      border-top-color: var(--fill-color);\n",
              "      border-right-color: var(--fill-color);\n",
              "    }\n",
              "    40% {\n",
              "      border-color: transparent;\n",
              "      border-right-color: var(--fill-color);\n",
              "      border-top-color: var(--fill-color);\n",
              "    }\n",
              "    60% {\n",
              "      border-color: transparent;\n",
              "      border-right-color: var(--fill-color);\n",
              "    }\n",
              "    80% {\n",
              "      border-color: transparent;\n",
              "      border-right-color: var(--fill-color);\n",
              "      border-bottom-color: var(--fill-color);\n",
              "    }\n",
              "    90% {\n",
              "      border-color: transparent;\n",
              "      border-bottom-color: var(--fill-color);\n",
              "    }\n",
              "  }\n",
              "</style>\n",
              "\n",
              "  <script>\n",
              "    async function quickchart(key) {\n",
              "      const quickchartButtonEl =\n",
              "        document.querySelector('#' + key + ' button');\n",
              "      quickchartButtonEl.disabled = true;  // To prevent multiple clicks.\n",
              "      quickchartButtonEl.classList.add('colab-df-spinner');\n",
              "      try {\n",
              "        const charts = await google.colab.kernel.invokeFunction(\n",
              "            'suggestCharts', [key], {});\n",
              "      } catch (error) {\n",
              "        console.error('Error during call to suggestCharts:', error);\n",
              "      }\n",
              "      quickchartButtonEl.classList.remove('colab-df-spinner');\n",
              "      quickchartButtonEl.classList.add('colab-df-quickchart-complete');\n",
              "    }\n",
              "    (() => {\n",
              "      let quickchartButtonEl =\n",
              "        document.querySelector('#df-c9e000ce-1c32-4ccb-bc74-68c1d4a9ec27 button');\n",
              "      quickchartButtonEl.style.display =\n",
              "        google.colab.kernel.accessAllowed ? 'block' : 'none';\n",
              "    })();\n",
              "  </script>\n",
              "</div>\n",
              "    </div>\n",
              "  </div>\n"
            ],
            "application/vnd.google.colaboratory.intrinsic+json": {
              "type": "dataframe",
              "summary": "{\n  \"name\": \"documents[:5]\",\n  \"rows\": 5,\n  \"fields\": [\n    {\n      \"column\": \"headline_text\",\n      \"properties\": {\n        \"dtype\": \"string\",\n        \"num_unique_values\": 5,\n        \"samples\": [\n          \"act fire witnesses must be aware of defamation\",\n          \"air nz strike to affect australian travellers\",\n          \"a g calls for infrastructure protection summit\"\n        ],\n        \"semantic_type\": \"\",\n        \"description\": \"\"\n      }\n    },\n    {\n      \"column\": \"index\",\n      \"properties\": {\n        \"dtype\": \"number\",\n        \"std\": 1,\n        \"min\": 0,\n        \"max\": 4,\n        \"num_unique_values\": 5,\n        \"samples\": [\n          1,\n          4,\n          2\n        ],\n        \"semantic_type\": \"\",\n        \"description\": \"\"\n      }\n    }\n  ]\n}"
            }
          },
          "metadata": {},
          "execution_count": 3
        }
      ],
      "execution_count": null
    },
    {
      "cell_type": "markdown",
      "source": [
        "**Data Preprocessing**\n",
        "\n",
        "Write a function to perform the following steps:\n",
        "\n",
        "Tokenization: Split the text into sentences and the sentences into words.\n",
        "\n",
        "Lowercase the words and remove punctuation.\n",
        "\n",
        "Words that have fewer than 3 characters are removed.\n",
        "\n",
        "All stopwords are removed.\n",
        "\n",
        "Words are lemmatized\n"
      ],
      "metadata": {
        "id": "GjqX-5oRsGPG",
        "cell_id": "83819d987f354d27b28c8745f3afdfea",
        "deepnote_cell_type": "markdown"
      }
    },
    {
      "cell_type": "code",
      "source": [
        "#!pip install gensim\n",
        "import gensim\n",
        "from gensim.utils import simple_preprocess\n",
        "from gensim.parsing.preprocessing import STOPWORDS\n",
        "from nltk.stem import WordNetLemmatizer\n",
        "import numpy as np\n",
        "np.random.seed(2018)"
      ],
      "metadata": {
        "id": "zFFCivDEsGPG",
        "cell_id": "4ce7fa54efaf4c48925840993134e579",
        "ExecuteTime": {
          "end_time": "2022-03-31T07:27:00.063016Z",
          "start_time": "2022-03-31T07:26:59.167305Z"
        },
        "source_hash": "f04dde8e",
        "execution_start": 1680170253314,
        "execution_millis": 7084,
        "deepnote_to_be_reexecuted": false,
        "deepnote_cell_type": "code"
      },
      "outputs": [],
      "execution_count": null
    },
    {
      "cell_type": "code",
      "source": [
        "import nltk\n",
        "nltk.download('wordnet')"
      ],
      "metadata": {
        "id": "p3c4HMwcsGPI",
        "colab": {
          "base_uri": "https://localhost:8080/"
        },
        "cell_id": "7031340d35e84719b79fc6a867302075",
        "outputId": "3ffd52b5-8b9d-413e-fd19-374a746395dd",
        "ExecuteTime": {
          "end_time": "2022-03-31T07:27:01.987807Z",
          "start_time": "2022-03-31T07:27:00.063912Z"
        },
        "source_hash": "47410b25",
        "execution_start": 1680170260406,
        "execution_millis": 89,
        "deepnote_to_be_reexecuted": false,
        "deepnote_cell_type": "code"
      },
      "outputs": [
        {
          "output_type": "stream",
          "name": "stderr",
          "text": [
            "[nltk_data] Downloading package wordnet to /root/nltk_data...\n"
          ]
        },
        {
          "output_type": "execute_result",
          "data": {
            "text/plain": [
              "True"
            ]
          },
          "metadata": {},
          "execution_count": 8
        }
      ],
      "execution_count": null
    },
    {
      "cell_type": "markdown",
      "source": [
        "### Lemmatize example"
      ],
      "metadata": {
        "id": "4-WSr4AFsGPJ",
        "cell_id": "ab5e1e5e6c99400086919ab31adc2efd",
        "deepnote_cell_type": "markdown"
      }
    },
    {
      "cell_type": "code",
      "source": [
        "nltk.download('omw-1.4')\n",
        "print(WordNetLemmatizer().lemmatize('went'))"
      ],
      "metadata": {
        "id": "LVBpr4pisGPK",
        "colab": {
          "base_uri": "https://localhost:8080/"
        },
        "cell_id": "22e75798dfd74ef8af510a571f757081",
        "outputId": "86aebb44-966b-4d2b-8d5b-f295507b9326",
        "ExecuteTime": {
          "end_time": "2022-03-31T07:27:03.126484Z",
          "start_time": "2022-03-31T07:27:01.994282Z"
        },
        "source_hash": "2fe382c4",
        "execution_start": 1680170260504,
        "execution_millis": 1982,
        "deepnote_to_be_reexecuted": false,
        "deepnote_cell_type": "code"
      },
      "outputs": [
        {
          "output_type": "stream",
          "name": "stderr",
          "text": [
            "[nltk_data] Downloading package omw-1.4 to /root/nltk_data...\n"
          ]
        },
        {
          "output_type": "stream",
          "name": "stdout",
          "text": [
            "went\n"
          ]
        }
      ],
      "execution_count": null
    },
    {
      "cell_type": "markdown",
      "source": [
        "Write a function to perform lemmatize and preprocessing steps on the data."
      ],
      "metadata": {
        "id": "naI56ycZ0zrL",
        "cell_id": "fc87ec1b1b8e47f9bb2d1ef1b6748321",
        "deepnote_cell_type": "markdown"
      }
    },
    {
      "cell_type": "code",
      "source": [
        "# Write function here"
      ],
      "metadata": {
        "id": "GDcnq0PzsGPO",
        "cell_id": "8ec1a5e7c4dc4796814853a07a05f45f",
        "ExecuteTime": {
          "end_time": "2022-03-31T07:27:03.139823Z",
          "start_time": "2022-03-31T07:27:03.136694Z"
        },
        "source_hash": "b8e9544",
        "execution_start": 1680170262511,
        "execution_millis": 8,
        "deepnote_to_be_reexecuted": false,
        "deepnote_cell_type": "code"
      },
      "outputs": [],
      "execution_count": null
    },
    {
      "cell_type": "markdown",
      "source": [
        "**Test function on doc 4310 here**"
      ],
      "metadata": {
        "id": "tdZBOeUA01BJ",
        "cell_id": "2dbe8f31510f4055bbc9e6a07f15aab2",
        "deepnote_cell_type": "markdown"
      }
    },
    {
      "cell_type": "code",
      "source": [
        "doc_sample = documents[documents['index'] == 4310].values[0][0]\n",
        "\n",
        "print('original document: ')\n",
        "print(doc_sample.split(' '))\n",
        "\n",
        "print('\\n\\n Preprocessed document')\n",
        "# Test the document here"
      ],
      "metadata": {
        "id": "JGkK7HggsGPQ",
        "colab": {
          "base_uri": "https://localhost:8080/"
        },
        "cell_id": "ad30658736e147119be855a78dede9b5",
        "outputId": "412d9b44-abc4-4a1c-d471-4eb6fdfedd4b",
        "ExecuteTime": {
          "end_time": "2022-03-31T07:27:03.159021Z",
          "start_time": "2022-03-31T07:27:03.144943Z"
        },
        "source_hash": "74b6653f",
        "execution_start": 1680170262578,
        "execution_millis": 6,
        "deepnote_to_be_reexecuted": false,
        "deepnote_cell_type": "code"
      },
      "outputs": [
        {
          "output_type": "stream",
          "name": "stdout",
          "text": [
            "original document: \n",
            "['ratepayers', 'group', 'wants', 'compulsory', 'local', 'govt', 'voting']\n",
            "\n",
            "\n",
            " Lemmatized document\n",
            "['ratepayer', 'group', 'want', 'compulsory', 'local', 'govt', 'voting']\n"
          ]
        },
        {
          "output_type": "stream",
          "name": "stderr",
          "text": [
            "/usr/local/lib/python3.10/dist-packages/ipykernel/ipkernel.py:283: DeprecationWarning: `should_run_async` will not call `transform_cell` automatically in the future. Please pass the result to `transformed_cell` argument and any exception that happen during thetransform in `preprocessing_exc_tuple` in IPython 7.17 and above.\n",
            "  and should_run_async(code)\n",
            "/usr/local/lib/python3.10/dist-packages/pandas/core/dtypes/cast.py:1641: DeprecationWarning: np.find_common_type is deprecated.  Please use `np.result_type` or `np.promote_types`.\n",
            "See https://numpy.org/devdocs/release/1.25.0-notes.html and the docs for more information.  (Deprecated NumPy 1.25)\n",
            "  return np.find_common_type(types, [])\n"
          ]
        }
      ],
      "execution_count": null
    },
    {
      "cell_type": "markdown",
      "source": [
        "Preprocess the documents' texts, saving the results as ‘processed_docs’"
      ],
      "metadata": {
        "id": "WPD1aTVh07yc",
        "cell_id": "f4579b7330c9469da38122f64fb58b30",
        "deepnote_cell_type": "markdown"
      }
    },
    {
      "cell_type": "code",
      "source": [
        "#"
      ],
      "metadata": {
        "id": "ZwbphtjUsGPS",
        "cell_id": "f87eb3d627a14d219ea8be67765ab90b",
        "ExecuteTime": {
          "end_time": "2022-03-31T07:28:37.505716Z",
          "start_time": "2022-03-31T07:27:03.160060Z"
        },
        "source_hash": "86a4f3b5",
        "execution_start": 1680170653840,
        "execution_millis": 1275,
        "deepnote_to_be_reexecuted": false,
        "deepnote_cell_type": "code"
      },
      "outputs": [],
      "execution_count": null
    },
    {
      "cell_type": "code",
      "source": [
        "# print the 10 first documents of processed_docs"
      ],
      "metadata": {
        "id": "iwBTOuqLsGPU",
        "cell_id": "9af7ff6c228b4b1a9b8074dcaf4f4ba6",
        "ExecuteTime": {
          "end_time": "2022-03-31T07:28:37.511229Z",
          "start_time": "2022-03-31T07:28:37.507517Z"
        },
        "source_hash": "b643119f",
        "execution_start": 1680170656326,
        "execution_millis": 2,
        "deepnote_to_be_reexecuted": false,
        "deepnote_cell_type": "code"
      },
      "outputs": [],
      "execution_count": null
    },
    {
      "cell_type": "markdown",
      "source": [
        "**Bag of Words on the Data set**\n",
        "\n",
        "Create a dictionary from ‘processed_docs’ containing the number of times a word appears in the training set."
      ],
      "metadata": {
        "id": "tdNZhWS-sGPW",
        "cell_id": "e618155839ba447c8770cbff234352fe",
        "deepnote_cell_type": "markdown"
      }
    },
    {
      "cell_type": "code",
      "source": [
        "# Hint: use gensim.corpora.Dictionary()"
      ],
      "metadata": {
        "id": "0gXdBucGsGPW",
        "cell_id": "260ea78b4c4c4e9696d8c7d237064229",
        "ExecuteTime": {
          "end_time": "2022-03-31T07:28:44.242639Z",
          "start_time": "2022-03-31T07:28:37.512100Z"
        },
        "source_hash": "a5d4e3a2",
        "execution_start": 1680170658941,
        "execution_millis": 117,
        "deepnote_to_be_reexecuted": false,
        "deepnote_cell_type": "code"
      },
      "outputs": [],
      "execution_count": null
    },
    {
      "cell_type": "code",
      "source": [
        "# Print length of dictionary's items"
      ],
      "metadata": {
        "cell_id": "b1b64702157f472ba80614a8bd150416",
        "ExecuteTime": {
          "end_time": "2022-03-31T07:28:44.246481Z",
          "start_time": "2022-03-31T07:28:44.244109Z"
        },
        "source_hash": "1ae52112",
        "execution_start": 1680170660067,
        "execution_millis": 10,
        "deepnote_to_be_reexecuted": false,
        "deepnote_cell_type": "code",
        "colab": {
          "base_uri": "https://localhost:8080/"
        },
        "id": "u_mgSa1N4ivj",
        "outputId": "e9d5aa11-8f26-4b56-b779-e1e5e8fc70fd"
      },
      "outputs": [
        {
          "output_type": "stream",
          "name": "stdout",
          "text": [
            "7999\n"
          ]
        }
      ],
      "execution_count": null
    },
    {
      "cell_type": "code",
      "source": [
        "# View the firs ten items. Replact 'dictionary' if you named it something else\n",
        "for i, (k, v) in enumerate(dictionary.iteritems()):\n",
        "    print(k, v)\n",
        "    if i > 9:\n",
        "        break"
      ],
      "metadata": {
        "id": "wLrmqlLwsGPX",
        "colab": {
          "base_uri": "https://localhost:8080/"
        },
        "cell_id": "79a551c560b64835a8f6dff833313912",
        "outputId": "9aebfab4-199d-410b-ab31-bf3372185bff",
        "ExecuteTime": {
          "end_time": "2022-03-31T07:28:44.324592Z",
          "start_time": "2022-03-31T07:28:44.247358Z"
        },
        "source_hash": "4d0e0ba3",
        "execution_start": 1680170661311,
        "execution_millis": 14,
        "deepnote_to_be_reexecuted": false,
        "deepnote_cell_type": "code"
      },
      "outputs": [
        {
          "output_type": "stream",
          "name": "stdout",
          "text": [
            "0 community\n",
            "1 witness\n",
            "2 call\n",
            "3 summit\n",
            "4 aust\n",
            "5 rise\n",
            "6 staff\n",
            "7 strike\n",
            "8 australian\n",
            "9 jump\n",
            "10 win\n",
            "11 record\n"
          ]
        }
      ],
      "execution_count": null
    },
    {
      "cell_type": "markdown",
      "source": [
        "**Gensim filter_extremes**\n",
        "\n",
        "Filter out tokens that appear in\n",
        "\n",
        "less than 15 documents (absolute number) or\n",
        "\n",
        "more than 0.5 documents (fraction of total corpus size, not absolute number).\n",
        "\n",
        "after the above two steps, keep only the first 100000 most frequent tokens."
      ],
      "metadata": {
        "id": "8CkH6wvd1Iz5",
        "cell_id": "f224d50172ad4c37a18b4ecaed23a96d",
        "deepnote_cell_type": "markdown"
      }
    },
    {
      "cell_type": "code",
      "source": [
        "# Hint: All steps can be performed with the filter_extremes method"
      ],
      "metadata": {
        "id": "cTemo6BhsGPa",
        "cell_id": "44da1602ec42456c9b69e204c6219c2a",
        "ExecuteTime": {
          "end_time": "2022-03-31T07:28:44.394089Z",
          "start_time": "2022-03-31T07:28:44.325597Z"
        },
        "source_hash": "5269a6a7",
        "execution_start": 1680170667556,
        "execution_millis": 30,
        "deepnote_to_be_reexecuted": false,
        "deepnote_cell_type": "code"
      },
      "outputs": [],
      "execution_count": null
    },
    {
      "cell_type": "markdown",
      "source": [
        "**Gensim doc2bow**\n",
        "\n",
        "For each document we create a dictionary reporting how many\n",
        "words and how many times those words appear. Save this to ‘bow_corpus’, then check our selected document earlier (4310)."
      ],
      "metadata": {
        "id": "qNbj2FT-1SzV",
        "cell_id": "2126cd120239412dbbbaa6873f08db35",
        "deepnote_cell_type": "markdown"
      }
    },
    {
      "cell_type": "code",
      "source": [
        "# Hint: Use the doc2bow on all docs in processed docs\n",
        "\n",
        "bow_corpus =\n",
        "\n",
        "docnr = 4310\n",
        "\n",
        "print(bow_corpus[docnr]) # format is [(word_number, count), ...]\n"
      ],
      "metadata": {
        "id": "h_f8GEZqsGPc",
        "cell_id": "055b0737ea6146f6afa238815145a13f",
        "ExecuteTime": {
          "end_time": "2022-03-31T07:28:48.862789Z",
          "start_time": "2022-03-31T07:28:44.394992Z"
        },
        "source_hash": "9d20f21d",
        "execution_start": 1680170681020,
        "execution_millis": 41,
        "deepnote_to_be_reexecuted": false,
        "deepnote_cell_type": "code"
      },
      "outputs": [],
      "execution_count": null
    },
    {
      "cell_type": "markdown",
      "source": [
        "Preview Bag Of Words for our sample preprocessed document."
      ],
      "metadata": {
        "id": "7erdIQC_1X3U",
        "cell_id": "7c263ef6ef3646dda11f710f0ddcd3b2",
        "deepnote_cell_type": "markdown"
      }
    },
    {
      "cell_type": "code",
      "source": [
        "bow_doc_4310 = bow_corpus[docnr]\n",
        "\n",
        "for i in range(len(bow_doc_4310)):\n",
        "    print(\"Word {} (\\\"{}\\\") appears {} time.\".format(bow_doc_4310[i][0],\n",
        "                                                     dictionary[bow_doc_4310[i][0]],\n",
        "                                                     bow_doc_4310[i][1]))"
      ],
      "metadata": {
        "id": "4IURxmH0sGPe",
        "cell_id": "0ae2bd595e2e460a960baa146c970b42",
        "ExecuteTime": {
          "end_time": "2022-03-31T07:28:48.868139Z",
          "start_time": "2022-03-31T07:28:48.863937Z"
        },
        "source_hash": "12aab570",
        "execution_start": 1680170683848,
        "execution_millis": 7,
        "deepnote_to_be_reexecuted": false,
        "deepnote_cell_type": "code"
      },
      "outputs": [],
      "execution_count": null
    },
    {
      "cell_type": "markdown",
      "source": [
        "**TF-IDF**\n",
        "\n",
        "Create tf-idf model object using models.TfidfModel on ‘bow_corpus’ and save it to ‘tfidf’, then apply transformation to the entire corpus and call it ‘corpus_tfidf’. Finally, preview TF-IDF scores for our first document.\n",
        "\n"
      ],
      "metadata": {
        "id": "dk7HxbP7sGPg",
        "cell_id": "d4ba3d0bed534409b18b3d5b6f3a3e5c",
        "deepnote_cell_type": "markdown"
      }
    },
    {
      "cell_type": "code",
      "source": [
        "from gensim import corpora, models\n",
        "\n",
        "tfidf = models.TfidfModel(bow_corpus)"
      ],
      "metadata": {
        "id": "-qHFS_GosGPg",
        "cell_id": "ef97922fd5bd4bc394942a22eb8cd12a",
        "ExecuteTime": {
          "end_time": "2022-03-31T07:28:49.848578Z",
          "start_time": "2022-03-31T07:28:48.869177Z"
        },
        "source_hash": "8e38c2c0",
        "execution_start": 1680170686747,
        "execution_millis": 4,
        "deepnote_to_be_reexecuted": false,
        "deepnote_cell_type": "code"
      },
      "outputs": [],
      "execution_count": null
    },
    {
      "cell_type": "code",
      "source": [
        "corpus_tfidf = tfidf[bow_corpus]"
      ],
      "metadata": {
        "id": "LieYwPz4sGPi",
        "cell_id": "c8197738910a46dd8edef38ff5d7a716",
        "ExecuteTime": {
          "end_time": "2022-03-31T07:28:49.851161Z",
          "start_time": "2022-03-31T07:28:49.849590Z"
        },
        "source_hash": "b52a810",
        "execution_start": 1680170688097,
        "execution_millis": 4,
        "deepnote_to_be_reexecuted": false,
        "deepnote_cell_type": "code"
      },
      "outputs": [],
      "execution_count": null
    },
    {
      "cell_type": "code",
      "source": [
        "print(corpus_tfidf[4310])"
      ],
      "metadata": {
        "id": "mFhMBXfaAH7M"
      },
      "execution_count": null,
      "outputs": []
    },
    {
      "cell_type": "markdown",
      "source": [
        "### Running LDA using Bag of Words\n",
        "\n",
        "Train our lda model using gensim.models.LdaMulticore (or gensim.models.ldamodel.LdaModel) and save it to 'lda_model'. Use 10 topics\n"
      ],
      "metadata": {
        "id": "_Rc91kgCsGPm",
        "cell_id": "5febdfb7a50c403aa076b2e2b6a0ae90",
        "deepnote_cell_type": "markdown"
      }
    },
    {
      "cell_type": "code",
      "source": [
        "lda_model ="
      ],
      "metadata": {
        "id": "2x_9_OaxsGPm",
        "cell_id": "9ef8306357b8403ba41955eef99d2cec",
        "ExecuteTime": {
          "end_time": "2022-03-31T07:30:15.682644Z",
          "start_time": "2022-03-31T07:28:49.859259Z"
        },
        "source_hash": "ac71a7d",
        "execution_start": 1680170690783,
        "execution_millis": 9115,
        "deepnote_to_be_reexecuted": false,
        "deepnote_cell_type": "code"
      },
      "outputs": [],
      "execution_count": null
    },
    {
      "cell_type": "code",
      "source": [
        "for idx, topic in lda_model.print_topics(-1): # -1 corresponds to all topics\n",
        "  print('Topic: {} \\nWords: {}'.format(idx, topic))"
      ],
      "metadata": {
        "id": "yxp0YzCJsGPo",
        "cell_id": "c9117a6e3c354b9fb7f115f9e245bbf2",
        "ExecuteTime": {
          "end_time": "2022-03-31T07:30:15.688849Z",
          "start_time": "2022-03-31T07:30:15.684478Z"
        },
        "source_hash": "ec0ce219",
        "execution_start": 1680170702507,
        "execution_millis": 5,
        "deepnote_to_be_reexecuted": false,
        "deepnote_cell_type": "code"
      },
      "outputs": [],
      "execution_count": null
    },
    {
      "cell_type": "markdown",
      "source": [
        "Cool! Can you distinguish different topics using the words in each topic and their corresponding weights?"
      ],
      "metadata": {
        "id": "HOVrWBSXsGPp",
        "cell_id": "ec0fe8bcf8b84b959271d9d6e61ad286",
        "deepnote_cell_type": "markdown"
      }
    },
    {
      "cell_type": "markdown",
      "source": [
        "## Visualization\n",
        "\n",
        "There is a nice way to visualize the LDA model you built using the package pyLDAvis:"
      ],
      "metadata": {
        "id": "9KKsOYnw2lDB",
        "cell_id": "3a1fc7cc2529483d90bd28018905dda4",
        "deepnote_cell_type": "markdown"
      }
    },
    {
      "cell_type": "code",
      "source": [
        "# !pip install pyLDAvis\n",
        "# !pip install pyLDAvis.gensim\n",
        "# Use might also need  !pip install pandas==1.5.3"
      ],
      "metadata": {
        "id": "e_oXvvT82yxo",
        "cell_id": "056a127146ef491a81282fa45dea45fc",
        "ExecuteTime": {
          "end_time": "2022-03-31T07:30:18.441520Z",
          "start_time": "2022-03-31T07:30:15.689728Z"
        },
        "source_hash": "661e3124",
        "execution_start": 1680170826973,
        "execution_millis": 11928,
        "deepnote_to_be_reexecuted": false,
        "deepnote_cell_type": "code"
      },
      "outputs": [],
      "execution_count": null
    },
    {
      "cell_type": "code",
      "source": [
        "%matplotlib inline\n",
        "import pyLDAvis.gensim_models as gensimvis\n",
        "import pyLDAvis\n",
        "\n",
        "\n",
        "vis = gensimvis.prepare(lda_model, bow_corpus, dictionary)\n",
        "pyLDAvis.display(vis)\n"
      ],
      "metadata": {
        "id": "YLySzcee2JlW",
        "cell_id": "7aaf1bef19d5426090f41222f49f95c3",
        "ExecuteTime": {
          "end_time": "2022-03-31T07:31:17.327486Z",
          "start_time": "2022-03-31T07:30:18.443731Z"
        },
        "source_hash": "199d0dcf",
        "execution_start": 1680170838906,
        "execution_millis": 3469,
        "deepnote_to_be_reexecuted": false,
        "deepnote_cell_type": "code"
      },
      "outputs": [],
      "execution_count": null
    },
    {
      "cell_type": "markdown",
      "source": [
        "**Allocating topics to documents**"
      ],
      "metadata": {
        "id": "T3rc6O9usGPt",
        "cell_id": "fe07858a275e431c962b801160e186b8",
        "deepnote_cell_type": "markdown"
      }
    },
    {
      "cell_type": "code",
      "source": [
        "processed_docs[4310]"
      ],
      "metadata": {
        "id": "2nsYaquB2i8V"
      },
      "execution_count": null,
      "outputs": []
    },
    {
      "cell_type": "code",
      "source": [
        "for index, score in sorted(lda_model[bow_corpus[4310]], key=lambda tup: -1*tup[1]):\n",
        "    print(\"\\nScore: {}\\t \\nTopic: {}\".format(score, lda_model.print_topic(index, 10)))"
      ],
      "metadata": {
        "id": "1wBgclu4sGPv",
        "cell_id": "162807beaa1b47fb91242780a662acab",
        "ExecuteTime": {
          "end_time": "2022-03-31T07:31:17.343359Z",
          "start_time": "2022-03-31T07:31:17.335883Z"
        },
        "source_hash": "5a7be169",
        "execution_start": 1680170842384,
        "execution_millis": 4,
        "deepnote_to_be_reexecuted": false,
        "deepnote_cell_type": "code"
      },
      "outputs": [],
      "execution_count": null
    },
    {
      "cell_type": "markdown",
      "source": [
        "## Testing model on unseen document"
      ],
      "metadata": {
        "id": "3-azOvGMsGPz",
        "cell_id": "b42b565c4ed4435d9858cdf5f51791a4",
        "deepnote_cell_type": "markdown"
      }
    },
    {
      "cell_type": "code",
      "source": [
        "unseen_document = '' # Write some text here\n",
        "unseen_document_preprocessed = # Perform the preprocessing here\n",
        "bow_vector =  # Use dictionray.doc2bow to create BOW vector here\n",
        "\n",
        "print('bow_vector: ', bow_vector)\n",
        "\n",
        "for index, score in sorted(lda_model[bow_vector], key=lambda tup: -1*tup[1]): # The key=lambda tup: -1*tup[1] argument specifies that the sorting should be based on the second element of each tuple (i.e., tup[1]), which is the score. The -1 multiplier inverses the sort order, meaning that the list is sorted in descending order of the scores\n",
        "    print(\"Score: {}\\t Topic: {}\".format(score, lda_model.print_topic(index, 5)))"
      ],
      "metadata": {
        "id": "8ONH0SFwsGP0",
        "colab": {
          "base_uri": "https://localhost:8080/"
        },
        "cell_id": "4bff1ef44a6648b7b78569f726211ed9",
        "outputId": "8b94bec2-cbae-4183-981c-a524b2494295",
        "ExecuteTime": {
          "end_time": "2022-03-31T07:31:17.359339Z",
          "start_time": "2022-03-31T07:31:17.344386Z"
        },
        "source_hash": "734a8547",
        "execution_start": 1680170842397,
        "execution_millis": 4,
        "deepnote_to_be_reexecuted": false,
        "deepnote_cell_type": "code"
      },
      "outputs": [
        {
          "output_type": "stream",
          "name": "stdout",
          "text": [
            "bow_vector:  [(55, 1), (56, 1), (392, 1), (497, 1), (927, 1)]\n",
            "Score: 0.1833622306585312\t Topic: 0.085*\"govt\" + 0.062*\"claim\" + 0.027*\"home\" + 0.026*\"fund\" + 0.026*\"case\"\n",
            "Score: 0.18333686888217926\t Topic: 0.153*\"iraq\" + 0.040*\"sars\" + 0.038*\"world\" + 0.030*\"woman\" + 0.022*\"denies\"\n",
            "Score: 0.18332484364509583\t Topic: 0.078*\"iraqi\" + 0.056*\"plan\" + 0.035*\"attack\" + 0.033*\"protest\" + 0.024*\"open\"\n",
            "Score: 0.18331703543663025\t Topic: 0.099*\"police\" + 0.027*\"coalition\" + 0.027*\"missing\" + 0.024*\"election\" + 0.021*\"probe\"\n",
            "Score: 0.18331320583820343\t Topic: 0.034*\"north\" + 0.032*\"hope\" + 0.031*\"australian\" + 0.027*\"missile\" + 0.026*\"coast\"\n",
            "Score: 0.016669167205691338\t Topic: 0.052*\"say\" + 0.038*\"report\" + 0.036*\"force\" + 0.027*\"hospital\" + 0.025*\"saddam\"\n",
            "Score: 0.016669156029820442\t Topic: 0.042*\"killed\" + 0.028*\"crash\" + 0.028*\"dead\" + 0.021*\"title\" + 0.021*\"return\"\n",
            "Score: 0.016669156029820442\t Topic: 0.075*\"baghdad\" + 0.036*\"water\" + 0.032*\"australia\" + 0.028*\"urged\" + 0.027*\"boost\"\n",
            "Score: 0.016669156029820442\t Topic: 0.042*\"face\" + 0.041*\"court\" + 0.024*\"change\" + 0.023*\"charge\" + 0.022*\"win\"\n",
            "Score: 0.016669156029820442\t Topic: 0.065*\"council\" + 0.029*\"aust\" + 0.028*\"support\" + 0.027*\"charged\" + 0.026*\"minister\"\n"
          ]
        },
        {
          "output_type": "stream",
          "name": "stderr",
          "text": [
            "/usr/local/lib/python3.10/dist-packages/ipykernel/ipkernel.py:283: DeprecationWarning: `should_run_async` will not call `transform_cell` automatically in the future. Please pass the result to `transformed_cell` argument and any exception that happen during thetransform in `preprocessing_exc_tuple` in IPython 7.17 and above.\n",
            "  and should_run_async(code)\n"
          ]
        }
      ],
      "execution_count": null
    },
    {
      "cell_type": "markdown",
      "source": [
        "Our test document has the highest probability to be part of the topic on the top."
      ],
      "metadata": {
        "id": "Mvxk6vWWsGPx",
        "cell_id": "c2c8b69e7aea4d8da038c1e02ef9b1e8",
        "deepnote_cell_type": "markdown"
      }
    },
    {
      "cell_type": "markdown",
      "source": [
        "\n",
        "\n",
        "1.   List item\n",
        "2.   List item\n",
        "\n",
        "\n",
        "\n",
        "Create a new LDA model on the tf-idf representation"
      ],
      "metadata": {
        "id": "FqmscNHfsGPp",
        "cell_id": "854b40ddc41a40c390cd6ed03dcaf717",
        "deepnote_cell_type": "markdown"
      }
    },
    {
      "cell_type": "code",
      "source": [
        "lda_model_tfidf ="
      ],
      "metadata": {
        "id": "-DWkNzfPsGPq",
        "cell_id": "8d44f99891134ff09d22cf692c2a6685",
        "ExecuteTime": {
          "end_time": "2022-03-31T07:32:40.783842Z",
          "start_time": "2022-03-31T07:31:17.360322Z"
        },
        "source_hash": "dd57a4e4",
        "execution_start": 1680170897625,
        "execution_millis": 7498,
        "deepnote_to_be_reexecuted": false,
        "deepnote_cell_type": "code"
      },
      "outputs": [],
      "execution_count": null
    },
    {
      "cell_type": "code",
      "source": [
        "# Print the topics\n",
        "for idx, topic in lda_model_tfidf.print_topics(-1):\n",
        "    print('Topic: {} Word: {}'.format(idx, topic))"
      ],
      "metadata": {
        "cell_id": "97d146a0ffa144b692af6126206e37e0",
        "ExecuteTime": {
          "end_time": "2022-03-31T07:36:58.153613Z",
          "start_time": "2022-03-31T07:36:58.145751Z"
        },
        "source_hash": "b9cc31a6",
        "execution_start": 1680170905125,
        "execution_millis": 7,
        "deepnote_to_be_reexecuted": false,
        "deepnote_cell_type": "code",
        "id": "YVQwTPpt4ivy"
      },
      "outputs": [],
      "execution_count": null
    },
    {
      "cell_type": "code",
      "source": [
        "processed_docs[4310]"
      ],
      "metadata": {
        "cell_id": "74ccef81b4794a79be4be985e9758acb",
        "source_hash": "df80c5cd",
        "execution_start": 1680170905138,
        "execution_millis": 3,
        "deepnote_to_be_reexecuted": false,
        "deepnote_cell_type": "code",
        "id": "TlFhUtAL4ivy"
      },
      "outputs": [],
      "execution_count": null
    },
    {
      "cell_type": "code",
      "source": [
        "# Get topic assignments for our sample doc\n",
        "for index, score in sorted(lda_model_tfidf[corpus_tfidf[4310]], key=lambda tup: -1*tup[1]):\n",
        "    print(\"\\nScore: {}\\t \\nTopic: {}\".format(score, lda_model_tfidf.print_topic(index, 10)))"
      ],
      "metadata": {
        "cell_id": "9ee1ad7cd6ba4231886f66c37dd2b3e7",
        "source_hash": "c82bceb",
        "execution_start": 1680170905148,
        "execution_millis": 10,
        "deepnote_to_be_reexecuted": false,
        "deepnote_cell_type": "code",
        "id": "KMg6teMv4ivy"
      },
      "outputs": [],
      "execution_count": null
    },
    {
      "cell_type": "markdown",
      "source": [
        "<a style='text-decoration:none;line-height:16px;display:flex;color:#5B5B62;padding:10px;justify-content:end;' href='https://deepnote.com?utm_source=created-in-deepnote-cell&projectId=a62772d5-473c-4698-8b17-a8c47ba190c5' target=\"_blank\">\n",
        "<img alt='Created in deepnote.com' style='display:inline;max-height:16px;margin:0px;margin-right:7.5px;' src='data:image/svg+xml;base64,PD94bWwgdmVyc2lvbj0iMS4wIiBlbmNvZGluZz0iVVRGLTgiPz4KPHN2ZyB3aWR0aD0iODBweCIgaGVpZ2h0PSI4MHB4IiB2aWV3Qm94PSIwIDAgODAgODAiIHZlcnNpb249IjEuMSIgeG1sbnM9Imh0dHA6Ly93d3cudzMub3JnLzIwMDAvc3ZnIiB4bWxuczp4bGluaz0iaHR0cDovL3d3dy53My5vcmcvMTk5OS94bGluayI+CiAgICA8IS0tIEdlbmVyYXRvcjogU2tldGNoIDU0LjEgKDc2NDkwKSAtIGh0dHBzOi8vc2tldGNoYXBwLmNvbSAtLT4KICAgIDx0aXRsZT5Hcm91cCAzPC90aXRsZT4KICAgIDxkZXNjPkNyZWF0ZWQgd2l0aCBTa2V0Y2guPC9kZXNjPgogICAgPGcgaWQ9IkxhbmRpbmciIHN0cm9rZT0ibm9uZSIgc3Ryb2tlLXdpZHRoPSIxIiBmaWxsPSJub25lIiBmaWxsLXJ1bGU9ImV2ZW5vZGQiPgogICAgICAgIDxnIGlkPSJBcnRib2FyZCIgdHJhbnNmb3JtPSJ0cmFuc2xhdGUoLTEyMzUuMDAwMDAwLCAtNzkuMDAwMDAwKSI+CiAgICAgICAgICAgIDxnIGlkPSJHcm91cC0zIiB0cmFuc2Zvcm09InRyYW5zbGF0ZSgxMjM1LjAwMDAwMCwgNzkuMDAwMDAwKSI+CiAgICAgICAgICAgICAgICA8cG9seWdvbiBpZD0iUGF0aC0yMCIgZmlsbD0iIzAyNjVCNCIgcG9pbnRzPSIyLjM3NjIzNzYyIDgwIDM4LjA0NzY2NjcgODAgNTcuODIxNzgyMiA3My44MDU3NTkyIDU3LjgyMTc4MjIgMzIuNzU5MjczOSAzOS4xNDAyMjc4IDMxLjY4MzE2ODMiPjwvcG9seWdvbj4KICAgICAgICAgICAgICAgIDxwYXRoIGQ9Ik0zNS4wMDc3MTgsODAgQzQyLjkwNjIwMDcsNzYuNDU0OTM1OCA0Ny41NjQ5MTY3LDcxLjU0MjI2NzEgNDguOTgzODY2LDY1LjI2MTk5MzkgQzUxLjExMjI4OTksNTUuODQxNTg0MiA0MS42NzcxNzk1LDQ5LjIxMjIyODQgMjUuNjIzOTg0Niw0OS4yMTIyMjg0IEMyNS40ODQ5Mjg5LDQ5LjEyNjg0NDggMjkuODI2MTI5Niw0My4yODM4MjQ4IDM4LjY0NzU4NjksMzEuNjgzMTY4MyBMNzIuODcxMjg3MSwzMi41NTQ0MjUgTDY1LjI4MDk3Myw2Ny42NzYzNDIxIEw1MS4xMTIyODk5LDc3LjM3NjE0NCBMMzUuMDA3NzE4LDgwIFoiIGlkPSJQYXRoLTIyIiBmaWxsPSIjMDAyODY4Ij48L3BhdGg+CiAgICAgICAgICAgICAgICA8cGF0aCBkPSJNMCwzNy43MzA0NDA1IEwyNy4xMTQ1MzcsMC4yNTcxMTE0MzYgQzYyLjM3MTUxMjMsLTEuOTkwNzE3MDEgODAsMTAuNTAwMzkyNyA4MCwzNy43MzA0NDA1IEM4MCw2NC45NjA0ODgyIDY0Ljc3NjUwMzgsNzkuMDUwMzQxNCAzNC4zMjk1MTEzLDgwIEM0Ny4wNTUzNDg5LDc3LjU2NzA4MDggNTMuNDE4MjY3Nyw3MC4zMTM2MTAzIDUzLjQxODI2NzcsNTguMjM5NTg4NSBDNTMuNDE4MjY3Nyw0MC4xMjg1NTU3IDM2LjMwMzk1NDQsMzcuNzMwNDQwNSAyNS4yMjc0MTcsMzcuNzMwNDQwNSBDMTcuODQzMDU4NiwzNy43MzA0NDA1IDkuNDMzOTE5NjYsMzcuNzMwNDQwNSAwLDM3LjczMDQ0MDUgWiIgaWQ9IlBhdGgtMTkiIGZpbGw9IiMzNzkzRUYiPjwvcGF0aD4KICAgICAgICAgICAgPC9nPgogICAgICAgIDwvZz4KICAgIDwvZz4KPC9zdmc+' > </img>\n",
        "Created in <span style='font-weight:600;margin-left:4px;'>Deepnote</span></a>"
      ],
      "metadata": {
        "created_in_deepnote_cell": true,
        "deepnote_cell_type": "markdown",
        "id": "ZH4o_Wr44ivy"
      }
    }
  ],
  "nbformat": 4,
  "nbformat_minor": 0,
  "metadata": {
    "toc": {
      "sideBar": true,
      "nav_menu": {},
      "toc_cell": false,
      "title_cell": "Table of Contents",
      "toc_position": {},
      "skip_h1_title": false,
      "title_sidebar": "Contents",
      "base_numbering": 1,
      "number_sections": true,
      "toc_window_display": true,
      "toc_section_display": true
    },
    "colab": {
      "provenance": []
    },
    "deepnote": {},
    "kernelspec": {
      "name": "python3",
      "language": "python",
      "display_name": "Python 3"
    },
    "varInspector": {
      "cols": {
        "lenVar": 40,
        "lenName": 16,
        "lenType": 16
      },
      "kernels_config": {
        "r": {
          "library": "var_list.r",
          "varRefreshCmd": "cat(var_dic_list()) ",
          "delete_cmd_prefix": "rm(",
          "delete_cmd_postfix": ") "
        },
        "python": {
          "library": "var_list.py",
          "varRefreshCmd": "print(var_dic_list())",
          "delete_cmd_prefix": "del ",
          "delete_cmd_postfix": ""
        }
      },
      "window_display": false,
      "types_to_exclude": [
        "module",
        "function",
        "builtin_function_or_method",
        "instance",
        "_Feature"
      ]
    },
    "language_info": {
      "name": "python",
      "version": "3.8.8",
      "mimetype": "text/x-python",
      "file_extension": ".py",
      "pygments_lexer": "ipython3",
      "codemirror_mode": {
        "name": "ipython",
        "version": 3
      },
      "nbconvert_exporter": "python"
    },
    "deepnote_notebook_id": "e37551378f664414b4258745664167ff",
    "deepnote_execution_queue": []
  }
}